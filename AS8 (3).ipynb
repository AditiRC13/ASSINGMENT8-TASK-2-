{
 "cells": [
  {
   "cell_type": "code",
   "execution_count": 19,
   "id": "0c34ca2c-288d-4a57-b141-bb3a4e486ec2",
   "metadata": {},
   "outputs": [
    {
     "name": "stdout",
     "output_type": "stream",
     "text": [
      "Invalid Password\n",
      "Invalid Password\n"
     ]
    }
   ],
   "source": [
    "\n",
    "def check_password(password):\n",
    "    if len(re.findall('[a-z]', password)) >= 2 and len(password) >= 10:\n",
    "        if len(re.findall('[A-Z]', password)) >= 2:\n",
    "            if len(re.findall('[0-9]', password)) >= 1:\n",
    "                if len(re.findall('[@$_]', password)) >= 3:\n",
    "                    return \"Valid Password\"\n",
    "    return \"Invalid Password\"\n",
    "\n",
    "print(check_password('ADitOK1!@#'))\n",
    "# Invalid Password\n",
    "\n",
    "print(check_password('ADIT@_I@1'))\n",
    "# Valid Password\n"
   ]
  },
  {
   "cell_type": "code",
   "execution_count": 18,
   "id": "3de89b5c-21e0-4d9e-bcf1-b3a6ac610098",
   "metadata": {},
   "outputs": [
    {
     "name": "stdin",
     "output_type": "stream",
     "text": [
      "entered string  1ADITI\n"
     ]
    },
    {
     "name": "stdout",
     "output_type": "stream",
     "text": [
      "do not start with a letter \n"
     ]
    }
   ],
   "source": [
    "first_alphabet=input(\"entered string \")\n",
    "list(map(lambda x :x ,first_alphabet[0]))\n",
    "if first_alphabet[0].isalpha():\n",
    "    print(\" starts with a letter \")\n",
    "else:\n",
    "    print(\"do not start with a letter \")\n",
    "\n"
   ]
  },
  {
   "cell_type": "code",
   "execution_count": 144,
   "id": "1433a0e3-285f-4764-819d-f9e3fe09c797",
   "metadata": {},
   "outputs": [
    {
     "name": "stdin",
     "output_type": "stream",
     "text": [
      "entered string  a1234\n"
     ]
    },
    {
     "name": "stdout",
     "output_type": "stream",
     "text": [
      "string is not numeric \n"
     ]
    }
   ],
   "source": [
    "first_alphabet=input(\"entered string \")\n",
    "list(map(lambda x :x ,first_alphabet))\n",
    "if first_alphabet.isnumeric():\n",
    "    print(\"string is numeric \")\n",
    "else:\n",
    "    print(\"string is not numeric \")\n",
    "\n"
   ]
  },
  {
   "cell_type": "code",
   "execution_count": 149,
   "id": "6d0aa393-01f7-46db-8bf1-ef23a3eb5438",
   "metadata": {},
   "outputs": [
    {
     "name": "stdout",
     "output_type": "stream",
     "text": [
      "[('orange', 80), ('mango', 99), ('grapes', 1000)]\n"
     ]
    }
   ],
   "source": [
    " tp=[(\"mango\",99),(\"orange\",80), (\"grapes\", 1000)]\n",
    "def sort_out_touple(tp):\n",
    "    tp.sort(key=lambda x:x[1])\n",
    "    return (tp)\n",
    "print(sort_out_touple(tp))\n",
    " "
   ]
  },
  {
   "cell_type": "code",
   "execution_count": 162,
   "id": "aff0489c-d261-47f4-ba7c-2c6ba1b56073",
   "metadata": {},
   "outputs": [
    {
     "data": {
      "text/plain": [
       "[1, 4, 9, 16, 25, 36, 49, 64, 81, 100]"
      ]
     },
     "execution_count": 162,
     "metadata": {},
     "output_type": "execute_result"
    }
   ],
   "source": [
    " l1=[1,2,3,4,5,6,7,8,9,10]\n",
    "list(map(lambda x:x**2,l1))"
   ]
  },
  {
   "cell_type": "code",
   "execution_count": 168,
   "id": "e74bcbb2-3cab-4024-89ea-2d1057053ee7",
   "metadata": {},
   "outputs": [
    {
     "data": {
      "text/plain": [
       "[1, 8, 27, 64, 125, 216, 343, 512, 729, 1000]"
      ]
     },
     "execution_count": 168,
     "metadata": {},
     "output_type": "execute_result"
    }
   ],
   "source": [
    " l1=[1,2,3,4,5,6,7,8,9,10]\n",
    "list(map(lambda x:x**3,l1))"
   ]
  },
  {
   "cell_type": "code",
   "execution_count": 12,
   "id": "c431afc8-ce65-4d5c-842a-9d0016017841",
   "metadata": {},
   "outputs": [
    {
     "name": "stdin",
     "output_type": "stream",
     "text": [
      "enter a number 9\n"
     ]
    },
    {
     "name": "stdout",
     "output_type": "stream",
     "text": [
      "odd\n"
     ]
    }
   ],
   "source": [
    "number=int(input(\"enter a number\"))\n",
    "if(number%2)==0:\n",
    "    print(\"even\".format(number))\n",
    "else:\n",
    "    print(\"odd\".format(number))\n"
   ]
  },
  {
   "cell_type": "code",
   "execution_count": 15,
   "id": "bf2dc23c-e17c-47c7-ad7e-e61f09e0953a",
   "metadata": {},
   "outputs": [
    {
     "data": {
      "text/plain": [
       "[1, 3, 5, 7, 9]"
      ]
     },
     "execution_count": 15,
     "metadata": {},
     "output_type": "execute_result"
    }
   ],
   "source": [
    "l1=[1,2,3,4,5,6,7,8,9,10]\n",
    "list(filter(lambda x :x % 2 !=0 ,l1))"
   ]
  },
  {
   "cell_type": "code",
   "execution_count": 29,
   "id": "83b7fc61-7735-4a83-8343-4bb17c5debd8",
   "metadata": {},
   "outputs": [
    {
     "name": "stdout",
     "output_type": "stream",
     "text": [
      "[1, 2, 3, 4, 5, 6, -1, -2, -3, -4, -5, 0]\n"
     ]
    }
   ],
   "source": [
    "l2=[1,2,3,4,5,6,-1,-2,-3,-4,-5,0]\n",
    "def sort_num (l2):\n",
    "    list(filter(lambda x : x>1 and x<1,l2))\n",
    "    return l2\n",
    "print(sort_num(l2))\n"
   ]
  },
  {
   "cell_type": "code",
   "execution_count": 11,
   "id": "51d6159e-6b5e-4b9f-a5fe-360e65eb279f",
   "metadata": {},
   "outputs": [
    {
     "name": "stdout",
     "output_type": "stream",
     "text": [
      "the original list is : [1, 2, 3, 4, 5, 6, -1, -2, -3, -4, -5, 0]\n",
      "result after sorting process:  [1, 2, 3, 4, 5, 6, 0, -5, -4, -3, -2, -1]\n"
     ]
    }
   ],
   "source": [
    " l2=[1,2,3,4,5,6,-1,-2,-3,-4,-5,0]\n",
    "print(\"the original list is :\" ,  str(l2))\n",
    "res = sorted(l2,key=lambda i : 0 if i ==0 else -1/i)\n",
    "print (\"result after sorting process: \", str(res))"
   ]
  },
  {
   "cell_type": "code",
   "execution_count": null,
   "id": "2d303538-2d12-4c5d-93fe-13e7d855bdd4",
   "metadata": {},
   "outputs": [],
   "source": []
  }
 ],
 "metadata": {
  "kernelspec": {
   "display_name": "Python 3 (ipykernel)",
   "language": "python",
   "name": "python3"
  },
  "language_info": {
   "codemirror_mode": {
    "name": "ipython",
    "version": 3
   },
   "file_extension": ".py",
   "mimetype": "text/x-python",
   "name": "python",
   "nbconvert_exporter": "python",
   "pygments_lexer": "ipython3",
   "version": "3.10.8"
  }
 },
 "nbformat": 4,
 "nbformat_minor": 5
}
